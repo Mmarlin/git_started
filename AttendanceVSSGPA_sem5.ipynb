{
  "nbformat": 4,
  "nbformat_minor": 0,
  "metadata": {
    "colab": {
      "name": "AttendanceVSSGPA_sem5.ipynb",
      "provenance": [],
      "collapsed_sections": [],
      "include_colab_link": true
    },
    "kernelspec": {
      "name": "python3",
      "display_name": "Python 3"
    }
  },
  "cells": [
    {
      "cell_type": "markdown",
      "metadata": {
        "id": "view-in-github",
        "colab_type": "text"
      },
      "source": [
        "<a href=\"https://colab.research.google.com/github/Mmarlin/git_started/blob/master/AttendanceVSSGPA_sem5.ipynb\" target=\"_parent\"><img src=\"https://colab.research.google.com/assets/colab-badge.svg\" alt=\"Open In Colab\"/></a>"
      ]
    },
    {
      "cell_type": "markdown",
      "metadata": {
        "id": "sxgIfHhmJ7wH",
        "colab_type": "text"
      },
      "source": [
        "Implementation of Single variable Linear Reression   "
      ]
    },
    {
      "cell_type": "code",
      "metadata": {
        "id": "uW5FpdybYNIf",
        "colab_type": "code",
        "colab": {}
      },
      "source": [
        "import numpy as np\n",
        "import matplotlib.pyplot as plt\n",
        "import pandas as pd"
      ],
      "execution_count": 0,
      "outputs": []
    },
    {
      "cell_type": "code",
      "metadata": {
        "id": "fucS-picYWhK",
        "colab_type": "code",
        "colab": {}
      },
      "source": [
        "from google.colab import drive #toimport google drive data"
      ],
      "execution_count": 0,
      "outputs": []
    },
    {
      "cell_type": "code",
      "metadata": {
        "id": "MHCkPra0YzRY",
        "colab_type": "code",
        "outputId": "feb688ae-a800-411f-93e3-115437385b37",
        "colab": {
          "base_uri": "https://localhost:8080/",
          "height": 122
        }
      },
      "source": [
        "drive.mount('/content/drive') #to mount the drive data into colab clound and enterr the activation code"
      ],
      "execution_count": 0,
      "outputs": [
        {
          "output_type": "stream",
          "text": [
            "Go to this URL in a browser: https://accounts.google.com/o/oauth2/auth?client_id=947318989803-6bn6qk8qdgf4n4g3pfee6491hc0brc4i.apps.googleusercontent.com&redirect_uri=urn%3aietf%3awg%3aoauth%3a2.0%3aoob&response_type=code&scope=email%20https%3a%2f%2fwww.googleapis.com%2fauth%2fdocs.test%20https%3a%2f%2fwww.googleapis.com%2fauth%2fdrive%20https%3a%2f%2fwww.googleapis.com%2fauth%2fdrive.photos.readonly%20https%3a%2f%2fwww.googleapis.com%2fauth%2fpeopleapi.readonly\n",
            "\n",
            "Enter your authorization code:\n",
            "··········\n",
            "Mounted at /content/drive\n"
          ],
          "name": "stdout"
        }
      ]
    },
    {
      "cell_type": "code",
      "metadata": {
        "id": "nJbBmCdRZ203",
        "colab_type": "code",
        "outputId": "20ae652f-e75f-435f-d60a-7ec6e91d3eca",
        "colab": {
          "base_uri": "https://localhost:8080/",
          "height": 34
        }
      },
      "source": [
        "cd /content/drive/\"My Drive\""
      ],
      "execution_count": 0,
      "outputs": [
        {
          "output_type": "stream",
          "text": [
            "/content/drive/My Drive\n"
          ],
          "name": "stdout"
        }
      ]
    },
    {
      "cell_type": "code",
      "metadata": {
        "id": "vLww8ZocZ9tX",
        "colab_type": "code",
        "colab": {}
      },
      "source": [
        "#this changes the directory tothe drive"
      ],
      "execution_count": 0,
      "outputs": []
    },
    {
      "cell_type": "code",
      "metadata": {
        "id": "RJR3uNe4aDDh",
        "colab_type": "code",
        "outputId": "fe697e78-45c7-4b64-e556-5c1a889e1f16",
        "colab": {
          "base_uri": "https://localhost:8080/",
          "height": 1000
        }
      },
      "source": [
        "ls"
      ],
      "execution_count": 0,
      "outputs": [
        {
          "output_type": "stream",
          "text": [
            "'A2 PPT format.pptx'\n",
            " Acknowledement.gdoc\n",
            "'ALL SEM TIME TABLE 2019-20.gsheet'\n",
            "\u001b[0m\u001b[01;34m'Annual Grades Scored (File responses)'\u001b[0m/\n",
            "'Annual Grades Scored.gform'\n",
            "'Annual Grades Scored (Responses).gsheet'\n",
            "\u001b[01;34m'Apt Codes'\u001b[0m/\n",
            "\u001b[01;34m'APT INTELLECT'\u001b[0m/\n",
            " assign2_multi_1.ipynb\n",
            " Assignment1.docx\n",
            " Assignment2.gdoc\n",
            " \u001b[01;34maws_esp_med\u001b[0m/\n",
            " Bank_Example_Mysql.gdoc\n",
            " Bank_Example_Mysql.txt\n",
            "'Blank Quiz.gform'\n",
            "'boi statement.gsheet'\n",
            "\u001b[01;34m'checkthis content  and fileter'\u001b[0m/\n",
            " \u001b[01;34mClassroom\u001b[0m/\n",
            " \u001b[01;34mCN_LAB\u001b[0m/\n",
            "\u001b[01;34m'Colab Notebooks'\u001b[0m/\n",
            "'Course Evaluation.gform'\n",
            " Creative-Idea-Bulb-PowerPoint-Template.gslides\n",
            " \u001b[01;34mData_Facial\u001b[0m/\n",
            " \u001b[01;34mData_S\u001b[0m/\n",
            " \u001b[01;34mDatasets\u001b[0m/\n",
            "'DBMS ASSESSMENT SEM 5 - ICT.gdoc'\n",
            "'DBMS ASSESSMENT SEM 5 - ICT.pdf'\n",
            " \u001b[01;34mDBMS_report\u001b[0m/\n",
            " drawing-light-bulb-and-idea-PowerPoint-Templates-Widescreen.gslides\n",
            " DSP_Assign-1.gdoc\n",
            " DSP_Assign-1.pdf\n",
            "'EXP 0 Installation - Google Docs.docx'\n",
            "'EXP 0 Installation - Google Docs.gdoc'\n",
            " exp1.gdoc\n",
            " exp2.1.gdoc\n",
            " exp3.1.gdoc\n",
            " exp4.gdoc\n",
            "'exp7 marlin (1).gdoc'\n",
            "'exp7 marlin.gdoc'\n",
            "'exp8 marlin (1).gdoc'\n",
            "'exp8 marlin.gdoc'\n",
            "'exp9 marlin.gdoc'\n",
            "'final(1)'\n",
            "'Getting started.pdf'\n",
            "\u001b[01;34m'ICT Portal'\u001b[0m/\n",
            "'Interference_and_system capacity.gdoc'\n",
            " \u001b[01;34mMU\u001b[0m/\n",
            "'NEWGen (1).gdoc'\n",
            " NEWGen.gdoc\n",
            " \u001b[01;34mPendrive\u001b[0m/\n",
            "'Personal Profile Statement .gdoc'\n",
            "'Personal Profile Statement .gsheet'\n",
            " Prac.Exam_28_09_tables.docx\n",
            "'Project Cost..Budget.gsheet'\n",
            "'Project Cost..Budget.xlsx'\n",
            " \u001b[01;34mPY_Image\u001b[0m/\n",
            "'Report Format_Sem5_DBMS.gdoc'\n",
            "'Report Format_Sem5_DBMS.pdf'\n",
            "'Resume 2.gdoc'\n",
            " SE_Assignment1_009.gdoc\n",
            "'Shared Components.gsheet'\n",
            "'Smart Classroom Presentation 30 09 2019.gslides'\n",
            " \u001b[01;34mT_Line_Project\u001b[0m/\n",
            "\u001b[01;34m'Ubuntu Backup'\u001b[0m/\n",
            "'Untitled presentation.gslides'\n",
            "'Untitled spreadsheet.gsheet'\n",
            "'wireless communications Principles and Practices 2nd Edition Rappaport.pdf'\n"
          ],
          "name": "stdout"
        }
      ]
    },
    {
      "cell_type": "code",
      "metadata": {
        "id": "JG2Cp7fcaSrB",
        "colab_type": "code",
        "outputId": "61aea494-de48-4023-deb4-3766a2d84f7c",
        "colab": {
          "base_uri": "https://localhost:8080/",
          "height": 544
        }
      },
      "source": [
        "columnname=['Attendance','SGPA']\n",
        "dataset=pd.read_csv(\"Colab Notebooks/attendanceVSsgpa.csv\",names=columnname)\n",
        "print(dataset)\n",
        "dataset.shape"
      ],
      "execution_count": 0,
      "outputs": [
        {
          "output_type": "stream",
          "text": [
            "    Attendance  SGPA\n",
            "0           98  9.27\n",
            "1           95  9.14\n",
            "2           96  7.00\n",
            "3           95  5.82\n",
            "4           79  8.64\n",
            "5           97  8.14\n",
            "6           91  6.14\n",
            "7           91  8.32\n",
            "8           93  8.59\n",
            "9           95  9.09\n",
            "10          92  8.77\n",
            "11          79  7.09\n",
            "12          81  1.77\n",
            "13          71  6.82\n",
            "14          97  6.86\n",
            "15          76  3.14\n",
            "16          95  7.82\n",
            "17          82  7.45\n",
            "18          82  3.82\n",
            "19          90  7.32\n",
            "20          96  7.00\n",
            "21          95  7.50\n",
            "22          93  8.41\n",
            "23          96  8.95\n",
            "24          94  8.86\n",
            "25          95  8.09\n",
            "26          92  7.95\n",
            "27          90  8.05\n",
            "28          97  7.50\n"
          ],
          "name": "stdout"
        },
        {
          "output_type": "execute_result",
          "data": {
            "text/plain": [
              "(29, 2)"
            ]
          },
          "metadata": {
            "tags": []
          },
          "execution_count": 9
        }
      ]
    },
    {
      "cell_type": "code",
      "metadata": {
        "id": "t7bL6XSoxLNH",
        "colab_type": "code",
        "outputId": "fc42e9d1-73bf-460a-ff78-9c78ff73c7ce",
        "colab": {
          "base_uri": "https://localhost:8080/",
          "height": 34
        }
      },
      "source": [
        "type(dataset) #check the type of data if datarframe convert to array to access it individually"
      ],
      "execution_count": 0,
      "outputs": [
        {
          "output_type": "execute_result",
          "data": {
            "text/plain": [
              "pandas.core.frame.DataFrame"
            ]
          },
          "metadata": {
            "tags": []
          },
          "execution_count": 10
        }
      ]
    },
    {
      "cell_type": "code",
      "metadata": {
        "id": "E2ic_ZDMe8iP",
        "colab_type": "code",
        "outputId": "0e13a74c-40d4-4635-e558-1ab0789e63a4",
        "colab": {
          "base_uri": "https://localhost:8080/",
          "height": 297
        }
      },
      "source": [
        "dataset.describe() # in a  box plot the range out of upper quartile+1.5IQR and lower quartile-1.5IQR is OUTLIERs"
      ],
      "execution_count": 0,
      "outputs": [
        {
          "output_type": "execute_result",
          "data": {
            "text/html": [
              "<div>\n",
              "<style scoped>\n",
              "    .dataframe tbody tr th:only-of-type {\n",
              "        vertical-align: middle;\n",
              "    }\n",
              "\n",
              "    .dataframe tbody tr th {\n",
              "        vertical-align: top;\n",
              "    }\n",
              "\n",
              "    .dataframe thead th {\n",
              "        text-align: right;\n",
              "    }\n",
              "</style>\n",
              "<table border=\"1\" class=\"dataframe\">\n",
              "  <thead>\n",
              "    <tr style=\"text-align: right;\">\n",
              "      <th></th>\n",
              "      <th>Attendance</th>\n",
              "      <th>SGPA</th>\n",
              "    </tr>\n",
              "  </thead>\n",
              "  <tbody>\n",
              "    <tr>\n",
              "      <th>count</th>\n",
              "      <td>29.000000</td>\n",
              "      <td>29.000000</td>\n",
              "    </tr>\n",
              "    <tr>\n",
              "      <th>mean</th>\n",
              "      <td>90.448276</td>\n",
              "      <td>7.355862</td>\n",
              "    </tr>\n",
              "    <tr>\n",
              "      <th>std</th>\n",
              "      <td>7.356174</td>\n",
              "      <td>1.795812</td>\n",
              "    </tr>\n",
              "    <tr>\n",
              "      <th>min</th>\n",
              "      <td>71.000000</td>\n",
              "      <td>1.770000</td>\n",
              "    </tr>\n",
              "    <tr>\n",
              "      <th>25%</th>\n",
              "      <td>90.000000</td>\n",
              "      <td>7.000000</td>\n",
              "    </tr>\n",
              "    <tr>\n",
              "      <th>50%</th>\n",
              "      <td>93.000000</td>\n",
              "      <td>7.820000</td>\n",
              "    </tr>\n",
              "    <tr>\n",
              "      <th>75%</th>\n",
              "      <td>95.000000</td>\n",
              "      <td>8.590000</td>\n",
              "    </tr>\n",
              "    <tr>\n",
              "      <th>max</th>\n",
              "      <td>98.000000</td>\n",
              "      <td>9.270000</td>\n",
              "    </tr>\n",
              "  </tbody>\n",
              "</table>\n",
              "</div>"
            ],
            "text/plain": [
              "       Attendance       SGPA\n",
              "count   29.000000  29.000000\n",
              "mean    90.448276   7.355862\n",
              "std      7.356174   1.795812\n",
              "min     71.000000   1.770000\n",
              "25%     90.000000   7.000000\n",
              "50%     93.000000   7.820000\n",
              "75%     95.000000   8.590000\n",
              "max     98.000000   9.270000"
            ]
          },
          "metadata": {
            "tags": []
          },
          "execution_count": 11
        }
      ]
    },
    {
      "cell_type": "code",
      "metadata": {
        "id": "PjKQSYYyfIaL",
        "colab_type": "code",
        "outputId": "76acfab7-42f5-4947-c491-b91d45a55fdd",
        "colab": {
          "base_uri": "https://localhost:8080/",
          "height": 948
        }
      },
      "source": [
        "x_value = dataset.iloc[0:dataset.shape[0],0:1]\n",
        "x_value"
      ],
      "execution_count": 0,
      "outputs": [
        {
          "output_type": "execute_result",
          "data": {
            "text/html": [
              "<div>\n",
              "<style scoped>\n",
              "    .dataframe tbody tr th:only-of-type {\n",
              "        vertical-align: middle;\n",
              "    }\n",
              "\n",
              "    .dataframe tbody tr th {\n",
              "        vertical-align: top;\n",
              "    }\n",
              "\n",
              "    .dataframe thead th {\n",
              "        text-align: right;\n",
              "    }\n",
              "</style>\n",
              "<table border=\"1\" class=\"dataframe\">\n",
              "  <thead>\n",
              "    <tr style=\"text-align: right;\">\n",
              "      <th></th>\n",
              "      <th>Attendance</th>\n",
              "    </tr>\n",
              "  </thead>\n",
              "  <tbody>\n",
              "    <tr>\n",
              "      <th>0</th>\n",
              "      <td>98</td>\n",
              "    </tr>\n",
              "    <tr>\n",
              "      <th>1</th>\n",
              "      <td>95</td>\n",
              "    </tr>\n",
              "    <tr>\n",
              "      <th>2</th>\n",
              "      <td>96</td>\n",
              "    </tr>\n",
              "    <tr>\n",
              "      <th>3</th>\n",
              "      <td>95</td>\n",
              "    </tr>\n",
              "    <tr>\n",
              "      <th>4</th>\n",
              "      <td>79</td>\n",
              "    </tr>\n",
              "    <tr>\n",
              "      <th>5</th>\n",
              "      <td>97</td>\n",
              "    </tr>\n",
              "    <tr>\n",
              "      <th>6</th>\n",
              "      <td>91</td>\n",
              "    </tr>\n",
              "    <tr>\n",
              "      <th>7</th>\n",
              "      <td>91</td>\n",
              "    </tr>\n",
              "    <tr>\n",
              "      <th>8</th>\n",
              "      <td>93</td>\n",
              "    </tr>\n",
              "    <tr>\n",
              "      <th>9</th>\n",
              "      <td>95</td>\n",
              "    </tr>\n",
              "    <tr>\n",
              "      <th>10</th>\n",
              "      <td>92</td>\n",
              "    </tr>\n",
              "    <tr>\n",
              "      <th>11</th>\n",
              "      <td>79</td>\n",
              "    </tr>\n",
              "    <tr>\n",
              "      <th>12</th>\n",
              "      <td>81</td>\n",
              "    </tr>\n",
              "    <tr>\n",
              "      <th>13</th>\n",
              "      <td>71</td>\n",
              "    </tr>\n",
              "    <tr>\n",
              "      <th>14</th>\n",
              "      <td>97</td>\n",
              "    </tr>\n",
              "    <tr>\n",
              "      <th>15</th>\n",
              "      <td>76</td>\n",
              "    </tr>\n",
              "    <tr>\n",
              "      <th>16</th>\n",
              "      <td>95</td>\n",
              "    </tr>\n",
              "    <tr>\n",
              "      <th>17</th>\n",
              "      <td>82</td>\n",
              "    </tr>\n",
              "    <tr>\n",
              "      <th>18</th>\n",
              "      <td>82</td>\n",
              "    </tr>\n",
              "    <tr>\n",
              "      <th>19</th>\n",
              "      <td>90</td>\n",
              "    </tr>\n",
              "    <tr>\n",
              "      <th>20</th>\n",
              "      <td>96</td>\n",
              "    </tr>\n",
              "    <tr>\n",
              "      <th>21</th>\n",
              "      <td>95</td>\n",
              "    </tr>\n",
              "    <tr>\n",
              "      <th>22</th>\n",
              "      <td>93</td>\n",
              "    </tr>\n",
              "    <tr>\n",
              "      <th>23</th>\n",
              "      <td>96</td>\n",
              "    </tr>\n",
              "    <tr>\n",
              "      <th>24</th>\n",
              "      <td>94</td>\n",
              "    </tr>\n",
              "    <tr>\n",
              "      <th>25</th>\n",
              "      <td>95</td>\n",
              "    </tr>\n",
              "    <tr>\n",
              "      <th>26</th>\n",
              "      <td>92</td>\n",
              "    </tr>\n",
              "    <tr>\n",
              "      <th>27</th>\n",
              "      <td>90</td>\n",
              "    </tr>\n",
              "    <tr>\n",
              "      <th>28</th>\n",
              "      <td>97</td>\n",
              "    </tr>\n",
              "  </tbody>\n",
              "</table>\n",
              "</div>"
            ],
            "text/plain": [
              "    Attendance\n",
              "0           98\n",
              "1           95\n",
              "2           96\n",
              "3           95\n",
              "4           79\n",
              "5           97\n",
              "6           91\n",
              "7           91\n",
              "8           93\n",
              "9           95\n",
              "10          92\n",
              "11          79\n",
              "12          81\n",
              "13          71\n",
              "14          97\n",
              "15          76\n",
              "16          95\n",
              "17          82\n",
              "18          82\n",
              "19          90\n",
              "20          96\n",
              "21          95\n",
              "22          93\n",
              "23          96\n",
              "24          94\n",
              "25          95\n",
              "26          92\n",
              "27          90\n",
              "28          97"
            ]
          },
          "metadata": {
            "tags": []
          },
          "execution_count": 13
        }
      ]
    },
    {
      "cell_type": "code",
      "metadata": {
        "id": "ebdC53A1gp1P",
        "colab_type": "code",
        "outputId": "3b9469ba-9f9c-4de6-9c82-2b3b6fbd62ed",
        "colab": {
          "base_uri": "https://localhost:8080/",
          "height": 948
        }
      },
      "source": [
        "y_value = dataset.iloc[0:dataset.shape[0],1:2]\n",
        "y_value"
      ],
      "execution_count": 0,
      "outputs": [
        {
          "output_type": "execute_result",
          "data": {
            "text/html": [
              "<div>\n",
              "<style scoped>\n",
              "    .dataframe tbody tr th:only-of-type {\n",
              "        vertical-align: middle;\n",
              "    }\n",
              "\n",
              "    .dataframe tbody tr th {\n",
              "        vertical-align: top;\n",
              "    }\n",
              "\n",
              "    .dataframe thead th {\n",
              "        text-align: right;\n",
              "    }\n",
              "</style>\n",
              "<table border=\"1\" class=\"dataframe\">\n",
              "  <thead>\n",
              "    <tr style=\"text-align: right;\">\n",
              "      <th></th>\n",
              "      <th>SGPA</th>\n",
              "    </tr>\n",
              "  </thead>\n",
              "  <tbody>\n",
              "    <tr>\n",
              "      <th>0</th>\n",
              "      <td>9.27</td>\n",
              "    </tr>\n",
              "    <tr>\n",
              "      <th>1</th>\n",
              "      <td>9.14</td>\n",
              "    </tr>\n",
              "    <tr>\n",
              "      <th>2</th>\n",
              "      <td>7.00</td>\n",
              "    </tr>\n",
              "    <tr>\n",
              "      <th>3</th>\n",
              "      <td>5.82</td>\n",
              "    </tr>\n",
              "    <tr>\n",
              "      <th>4</th>\n",
              "      <td>8.64</td>\n",
              "    </tr>\n",
              "    <tr>\n",
              "      <th>5</th>\n",
              "      <td>8.14</td>\n",
              "    </tr>\n",
              "    <tr>\n",
              "      <th>6</th>\n",
              "      <td>6.14</td>\n",
              "    </tr>\n",
              "    <tr>\n",
              "      <th>7</th>\n",
              "      <td>8.32</td>\n",
              "    </tr>\n",
              "    <tr>\n",
              "      <th>8</th>\n",
              "      <td>8.59</td>\n",
              "    </tr>\n",
              "    <tr>\n",
              "      <th>9</th>\n",
              "      <td>9.09</td>\n",
              "    </tr>\n",
              "    <tr>\n",
              "      <th>10</th>\n",
              "      <td>8.77</td>\n",
              "    </tr>\n",
              "    <tr>\n",
              "      <th>11</th>\n",
              "      <td>7.09</td>\n",
              "    </tr>\n",
              "    <tr>\n",
              "      <th>12</th>\n",
              "      <td>1.77</td>\n",
              "    </tr>\n",
              "    <tr>\n",
              "      <th>13</th>\n",
              "      <td>6.82</td>\n",
              "    </tr>\n",
              "    <tr>\n",
              "      <th>14</th>\n",
              "      <td>6.86</td>\n",
              "    </tr>\n",
              "    <tr>\n",
              "      <th>15</th>\n",
              "      <td>3.14</td>\n",
              "    </tr>\n",
              "    <tr>\n",
              "      <th>16</th>\n",
              "      <td>7.82</td>\n",
              "    </tr>\n",
              "    <tr>\n",
              "      <th>17</th>\n",
              "      <td>7.45</td>\n",
              "    </tr>\n",
              "    <tr>\n",
              "      <th>18</th>\n",
              "      <td>3.82</td>\n",
              "    </tr>\n",
              "    <tr>\n",
              "      <th>19</th>\n",
              "      <td>7.32</td>\n",
              "    </tr>\n",
              "    <tr>\n",
              "      <th>20</th>\n",
              "      <td>7.00</td>\n",
              "    </tr>\n",
              "    <tr>\n",
              "      <th>21</th>\n",
              "      <td>7.50</td>\n",
              "    </tr>\n",
              "    <tr>\n",
              "      <th>22</th>\n",
              "      <td>8.41</td>\n",
              "    </tr>\n",
              "    <tr>\n",
              "      <th>23</th>\n",
              "      <td>8.95</td>\n",
              "    </tr>\n",
              "    <tr>\n",
              "      <th>24</th>\n",
              "      <td>8.86</td>\n",
              "    </tr>\n",
              "    <tr>\n",
              "      <th>25</th>\n",
              "      <td>8.09</td>\n",
              "    </tr>\n",
              "    <tr>\n",
              "      <th>26</th>\n",
              "      <td>7.95</td>\n",
              "    </tr>\n",
              "    <tr>\n",
              "      <th>27</th>\n",
              "      <td>8.05</td>\n",
              "    </tr>\n",
              "    <tr>\n",
              "      <th>28</th>\n",
              "      <td>7.50</td>\n",
              "    </tr>\n",
              "  </tbody>\n",
              "</table>\n",
              "</div>"
            ],
            "text/plain": [
              "    SGPA\n",
              "0   9.27\n",
              "1   9.14\n",
              "2   7.00\n",
              "3   5.82\n",
              "4   8.64\n",
              "5   8.14\n",
              "6   6.14\n",
              "7   8.32\n",
              "8   8.59\n",
              "9   9.09\n",
              "10  8.77\n",
              "11  7.09\n",
              "12  1.77\n",
              "13  6.82\n",
              "14  6.86\n",
              "15  3.14\n",
              "16  7.82\n",
              "17  7.45\n",
              "18  3.82\n",
              "19  7.32\n",
              "20  7.00\n",
              "21  7.50\n",
              "22  8.41\n",
              "23  8.95\n",
              "24  8.86\n",
              "25  8.09\n",
              "26  7.95\n",
              "27  8.05\n",
              "28  7.50"
            ]
          },
          "metadata": {
            "tags": []
          },
          "execution_count": 14
        }
      ]
    },
    {
      "cell_type": "code",
      "metadata": {
        "id": "A6Pt0TFLgwat",
        "colab_type": "code",
        "outputId": "1be6932c-7e9c-4d85-a401-2dd1ef0fb5e2",
        "colab": {
          "base_uri": "https://localhost:8080/",
          "height": 85
        }
      },
      "source": [
        "print(\"Mean of x values is %f and median is %f\\n\" % (np.mean(x_value), np.median(x_value)))\n",
        "print(\"Mean of y values is %f and median is %f\\n\" % (np.mean(y_value), np.median(y_value)))"
      ],
      "execution_count": 0,
      "outputs": [
        {
          "output_type": "stream",
          "text": [
            "Mean of x values is 67.993202 and median is 67.995920\n",
            "\n",
            "Mean of y values is 127.079985 and median is 127.158800\n",
            "\n"
          ],
          "name": "stdout"
        }
      ]
    },
    {
      "cell_type": "code",
      "metadata": {
        "id": "_WXpFAUJorBR",
        "colab_type": "code",
        "outputId": "fac3a09d-2474-4e63-e384-7a2238d1211b",
        "colab": {
          "base_uri": "https://localhost:8080/",
          "height": 329
        }
      },
      "source": [
        "import matplotlib.pyplot as plt\n",
        "plt.scatter(x_value,y_value)\n",
        "plt.xticks(np.arange(60,100,step=5))\n",
        "plt.yticks(np.arange(0,10,step=2))\n",
        "plt.xlabel(\"Attendance\")\n",
        "plt.ylabel(\"SGPA\")\n",
        "plt.title(\"Attendance Vs SGPA\")\n",
        "plt.figure(figsize=(20,20)) "
      ],
      "execution_count": 0,
      "outputs": [
        {
          "output_type": "execute_result",
          "data": {
            "text/plain": [
              "<Figure size 1440x1440 with 0 Axes>"
            ]
          },
          "metadata": {
            "tags": []
          },
          "execution_count": 17
        },
        {
          "output_type": "display_data",
          "data": {
            "image/png": "[encoded data removed]",
            "text/plain": [
              "<Figure size 432x288 with 1 Axes>"
            ]
          },
          "metadata": {
            "tags": []
          }
        },
        {
          "output_type": "display_data",
          "data": {
            "text/plain": [
              "<Figure size 1440x1440 with 0 Axes>"
            ]
          },
          "metadata": {
            "tags": []
          }
        }
      ]
    },
    {
      "cell_type": "code",
      "metadata": {
        "id": "GAFQAFX7LF0m",
        "colab_type": "code",
        "outputId": "b0ba40be-455c-498e-fc9e-8e59cbe21be6",
        "colab": {
          "base_uri": "https://localhost:8080/",
          "height": 268
        }
      },
      "source": [
        "import seaborn as sns       #boxplot to see outliers data\n",
        "sns.set(style=\"whitegrid\")\n",
        "ax = sns.boxplot(x_value)"
      ],
      "execution_count": 0,
      "outputs": [
        {
          "output_type": "display_data",
          "data": {
            "image/png": "[encoded data removed]",
            "text/plain": [
              "<Figure size 432x288 with 1 Axes>"
            ]
          },
          "metadata": {
            "tags": []
          }
        }
      ]
    },
    {
      "cell_type": "code",
      "metadata": {
        "id": "Ef5c3lfbN4sH",
        "colab_type": "code",
        "outputId": "98c69f2f-a805-4724-c53f-af6835c66989",
        "colab": {
          "base_uri": "https://localhost:8080/",
          "height": 268
        }
      },
      "source": [
        "sns.set(style=\"whitegrid\")\n",
        "ay = sns.boxplot(y_value)"
      ],
      "execution_count": 0,
      "outputs": [
        {
          "output_type": "display_data",
          "data": {
            "image/png": "[encoded data removed]",
            "text/plain": [
              "<Figure size 432x288 with 1 Axes>"
            ]
          },
          "metadata": {
            "tags": []
          }
        }
      ]
    },
    {
      "cell_type": "code",
      "metadata": {
        "id": "p2kAsOb4On3H",
        "colab_type": "code",
        "colab": {}
      },
      "source": [
        "#define hypothesis\n",
        "def hypothesis(theta_array, x):\n",
        "    # Returns value of hypothesis at the point corresponding to the 'x' entry\n",
        "    # H(x) = theta_0 + theta_1*x\n",
        "    return theta_array[0] + theta_array[1]*x"
      ],
      "execution_count": 0,
      "outputs": []
    },
    {
      "cell_type": "code",
      "metadata": {
        "id": "bWupK2bNO4fi",
        "colab_type": "code",
        "colab": {}
      },
      "source": [
        "#define cost function\n",
        "def cost_function(theta_array, x_value, y_value, m):\n",
        "    # This function returns our cost function value at particular theta values\n",
        "    total_error = 0\n",
        "    for i in range(m):\n",
        "        total_error += (theta_array[0] + theta_array[1]*x_value[i] - y_value[i])**2\n",
        "    return total_error/(2*m)"
      ],
      "execution_count": 0,
      "outputs": []
    },
    {
      "cell_type": "code",
      "metadata": {
        "id": "BJ_UyKYxPVS8",
        "colab_type": "code",
        "colab": {}
      },
      "source": [
        "#initialize regularization parameters\n",
        "# initializing values of thetas\n",
        "    theta_0 = 0  # bias\n",
        "    theta_1 = 0  # weight\n",
        "    \n",
        "    # defining a learning rate\n",
        "    alpha = 0.00005\n",
        "\n",
        "    # Setting the number of iterations\n",
        "    iters = 100"
      ],
      "execution_count": 0,
      "outputs": []
    },
    {
      "cell_type": "code",
      "metadata": {
        "id": "1nQr71DfjUPg",
        "colab_type": "code",
        "outputId": "2724e22d-0590-49e7-d007-7391c6e27a10",
        "colab": {
          "base_uri": "https://localhost:8080/",
          "height": 34
        }
      },
      "source": [
        " m = x_train.size\n",
        " m"
      ],
      "execution_count": 0,
      "outputs": [
        {
          "output_type": "execute_result",
          "data": {
            "text/plain": [
              "20000"
            ]
          },
          "metadata": {
            "tags": []
          },
          "execution_count": 113
        }
      ]
    },
    {
      "cell_type": "code",
      "metadata": {
        "id": "7Erw99b7Pgvc",
        "colab_type": "code",
        "colab": {}
      },
      "source": [
        "#minimizing cost function error\n",
        "def training(x_train, y_train, alpha, iters):\n",
        "    # This is the function which takes care of the Regression\n",
        "\n",
        "    # Finding size of the training data\n",
        "    m = x_train.size\n",
        "\n",
        "\n",
        "    # initializing values of thetas\n",
        "    theta_0 = 0     # bias\n",
        "    theta_1 = 0     # weight\n",
        "\n",
        "    # creating a weight matrix which contains both theta_0 and theta_1\n",
        "    theta_array = [theta_0, theta_1]\n",
        "\n",
        "    # creating an array that stores the values of the cost function during each iteration\n",
        "    cost_function_values = []\n",
        "\n",
        "    for i in range(iters):\n",
        "        # changing the values of theta 0 and theta 1 according to the gradient descent method\n",
        "        theta_array = improvise_thetas(theta_array, x_train, y_train, alpha, m)\n",
        "\n",
        "        # storing values of the cost function after every improvisation step (gradient descent step)\n",
        "        cost_function_values.append(cost_function(theta_array, x_train, y_train, m))\n",
        "\n",
        "        # print values every 10 iterations\n",
        "        if i % 10 == 0:\n",
        "            print('value of theta_0 at iteration %d is: ' % i, theta_array[0])\n",
        "            print('value of theta_1 at iteration %d is: ' % i, theta_array[1], '\\n')\n",
        "            ynew=x_train*theta_array[1]+theta_array[0]\n",
        "            plt.plot(x_train,ynew,'r')\n",
        "            plt.scatter(x_train,y_train)\n",
        "            plt.show()\n",
        "\n",
        "    # Plot our cost function's progress over our training period to check if the model has learnt\n",
        "    x = np.arange(0, len(cost_function_values), step=1)\n",
        "    plt.plot(x, cost_function_values, \"-b\", label=\"Cost Function Curve\")\n",
        "    plt.title(\"Learning Curve\")\n",
        "    plt.xlabel(\"Number Of Iterations\")\n",
        "    plt.ylabel(\"Cost Function Value\")\n",
        "    plt.legend()\n",
        "    plt.show()\n",
        "    print(\"Cost function values: \",cost_function_values)\n",
        "    # By returning our theta_array and saving it we are basically saving our trained model\n",
        "    return theta_array"
      ],
      "execution_count": 0,
      "outputs": []
    },
    {
      "cell_type": "code",
      "metadata": {
        "id": "0uGGzKHGPwyj",
        "colab_type": "code",
        "colab": {}
      },
      "source": [
        "#update the values of theta by gradient descent\n",
        "def improvise_thetas(theta_array, X, Y, alpha, m):\n",
        "    ''' This function updates the values of theta_0 and theta_1 and returns an array containing\n",
        "            the updated theta values. This is where gradient descent takes place '''\n",
        "\n",
        "    # initializing summations to zero\n",
        "    summation_0 = 0\n",
        "    summation_1 = 0\n",
        "\n",
        "    for i in range(m):        # finding the value of summations and finally the value of\n",
        "        summation_0 += (theta_array[0] + theta_array[1]*X[i]) - Y[i]\n",
        "\n",
        "        summation_1 += X[i]*((theta_array[0] + theta_array[1]*X[i])-Y[i])\n",
        "\n",
        "    new_theta_0 = theta_array[0] - alpha * (summation_0) / m\n",
        "\n",
        "    new_theta_1 = theta_array[1] - alpha * (summation_1) / m\n",
        "\n",
        "    updated_theta_array = [new_theta_0, new_theta_1]\n",
        "    print(updated_theta_array)\n",
        "    return updated_theta_array"
      ],
      "execution_count": 0,
      "outputs": []
    },
    {
      "cell_type": "code",
      "metadata": {
        "id": "dzXa3cd4TvDS",
        "colab_type": "code",
        "outputId": "0ba0d883-b753-4fc9-9111-473727c9515c",
        "colab": {
          "base_uri": "https://localhost:8080/",
          "height": 34
        }
      },
      "source": [
        "\n",
        "type(x_value)"
      ],
      "execution_count": 0,
      "outputs": [
        {
          "output_type": "execute_result",
          "data": {
            "text/plain": [
              "pandas.core.frame.DataFrame"
            ]
          },
          "metadata": {
            "tags": []
          },
          "execution_count": 56
        }
      ]
    },
    {
      "cell_type": "code",
      "metadata": {
        "id": "k_VWDdKRnFFS",
        "colab_type": "code",
        "outputId": "0e051aad-64b3-48f0-d9d4-b14474b99623",
        "colab": {
          "base_uri": "https://localhost:8080/",
          "height": 487
        }
      },
      "source": [
        "columnname=['Height','Weight']\n",
        "raw_training_data = pd.read_csv(\"Colab Notebooks/train_height_weight.csv\",names=columnname)\n",
        "cleaned_training_data = raw_training_data.dropna()  # Cleaning the data by removing the rows with \"NaN\" values in them. dropna() does the job Not avalable values\n",
        "\n",
        "x_train_new = cleaned_training_data.as_matrix(columns=['Height'])\n",
        "y_train_new = cleaned_training_data.as_matrix(columns=['Weight'])\n",
        "\n",
        "# reshaping the data from (699,1) to (699)\n",
        "x_train = x_train_new.reshape(x_train_new.size)     #converting from column matrix to row matrix\n",
        "y_train = y_train_new.reshape(y_train_new.size)\n",
        "cleaned_training_data\n"
      ],
      "execution_count": 0,
      "outputs": [
        {
          "output_type": "stream",
          "text": [
            "/usr/local/lib/python3.6/dist-packages/ipykernel_launcher.py:5: FutureWarning: Method .as_matrix will be removed in a future version. Use .values instead.\n",
            "  \"\"\"\n",
            "/usr/local/lib/python3.6/dist-packages/ipykernel_launcher.py:6: FutureWarning: Method .as_matrix will be removed in a future version. Use .values instead.\n",
            "  \n"
          ],
          "name": "stderr"
        },
        {
          "output_type": "execute_result",
          "data": {
            "text/html": [
              "<div>\n",
              "<style scoped>\n",
              "    .dataframe tbody tr th:only-of-type {\n",
              "        vertical-align: middle;\n",
              "    }\n",
              "\n",
              "    .dataframe tbody tr th {\n",
              "        vertical-align: top;\n",
              "    }\n",
              "\n",
              "    .dataframe thead th {\n",
              "        text-align: right;\n",
              "    }\n",
              "</style>\n",
              "<table border=\"1\" class=\"dataframe\">\n",
              "  <thead>\n",
              "    <tr style=\"text-align: right;\">\n",
              "      <th></th>\n",
              "      <th>Height</th>\n",
              "      <th>Weight</th>\n",
              "    </tr>\n",
              "  </thead>\n",
              "  <tbody>\n",
              "    <tr>\n",
              "      <th>0</th>\n",
              "      <td>65.78331</td>\n",
              "      <td>112.9925</td>\n",
              "    </tr>\n",
              "    <tr>\n",
              "      <th>1</th>\n",
              "      <td>71.51521</td>\n",
              "      <td>136.4873</td>\n",
              "    </tr>\n",
              "    <tr>\n",
              "      <th>2</th>\n",
              "      <td>69.39874</td>\n",
              "      <td>153.0269</td>\n",
              "    </tr>\n",
              "    <tr>\n",
              "      <th>3</th>\n",
              "      <td>68.21660</td>\n",
              "      <td>142.3354</td>\n",
              "    </tr>\n",
              "    <tr>\n",
              "      <th>4</th>\n",
              "      <td>67.78781</td>\n",
              "      <td>144.2971</td>\n",
              "    </tr>\n",
              "    <tr>\n",
              "      <th>...</th>\n",
              "      <td>...</td>\n",
              "      <td>...</td>\n",
              "    </tr>\n",
              "    <tr>\n",
              "      <th>19995</th>\n",
              "      <td>65.27908</td>\n",
              "      <td>117.0884</td>\n",
              "    </tr>\n",
              "    <tr>\n",
              "      <th>19996</th>\n",
              "      <td>67.65755</td>\n",
              "      <td>123.9277</td>\n",
              "    </tr>\n",
              "    <tr>\n",
              "      <th>19997</th>\n",
              "      <td>66.69201</td>\n",
              "      <td>116.5055</td>\n",
              "    </tr>\n",
              "    <tr>\n",
              "      <th>19998</th>\n",
              "      <td>65.78102</td>\n",
              "      <td>104.7543</td>\n",
              "    </tr>\n",
              "    <tr>\n",
              "      <th>19999</th>\n",
              "      <td>68.07045</td>\n",
              "      <td>129.6798</td>\n",
              "    </tr>\n",
              "  </tbody>\n",
              "</table>\n",
              "<p>20000 rows × 2 columns</p>\n",
              "</div>"
            ],
            "text/plain": [
              "         Height    Weight\n",
              "0      65.78331  112.9925\n",
              "1      71.51521  136.4873\n",
              "2      69.39874  153.0269\n",
              "3      68.21660  142.3354\n",
              "4      67.78781  144.2971\n",
              "...         ...       ...\n",
              "19995  65.27908  117.0884\n",
              "19996  67.65755  123.9277\n",
              "19997  66.69201  116.5055\n",
              "19998  65.78102  104.7543\n",
              "19999  68.07045  129.6798\n",
              "\n",
              "[20000 rows x 2 columns]"
            ]
          },
          "metadata": {
            "tags": []
          },
          "execution_count": 72
        }
      ]
    },
    {
      "cell_type": "code",
      "metadata": {
        "id": "9Vau1xoodFLi",
        "colab_type": "code",
        "outputId": "299d532b-9c90-4f11-ab2c-4e56833d22db",
        "colab": {
          "base_uri": "https://localhost:8080/",
          "height": 136
        }
      },
      "source": [
        "print(x_train_new)"
      ],
      "execution_count": 0,
      "outputs": [
        {
          "output_type": "stream",
          "text": [
            "[[65.78331]\n",
            " [71.51521]\n",
            " [69.39874]\n",
            " ...\n",
            " [66.69201]\n",
            " [65.78102]\n",
            " [68.07045]]\n"
          ],
          "name": "stdout"
        }
      ]
    },
    {
      "cell_type": "code",
      "metadata": {
        "id": "xvx6Nunl8xXn",
        "colab_type": "code",
        "outputId": "123401eb-4a97-4c38-9920-3366e4f00d1f",
        "colab": {
          "base_uri": "https://localhost:8080/",
          "height": 34
        }
      },
      "source": [
        "type(x_train_new)"
      ],
      "execution_count": 0,
      "outputs": [
        {
          "output_type": "execute_result",
          "data": {
            "text/plain": [
              "numpy.ndarray"
            ]
          },
          "metadata": {
            "tags": []
          },
          "execution_count": 64
        }
      ]
    },
    {
      "cell_type": "code",
      "metadata": {
        "id": "MkXpvK55nu_Q",
        "colab_type": "code",
        "outputId": "caab2ff1-2305-479f-ca04-2362f0baf7eb",
        "colab": {
          "base_uri": "https://localhost:8080/",
          "height": 1000
        }
      },
      "source": [
        "# training time!\n",
        "theta_array = training(x_train, y_train, alpha, iters)\n",
        "print(\"\\n*** The final value of theta_0 is \",theta_array[0],\" and theta_1 is \",theta_array[1],\" ***\\n\")\n"
      ],
      "execution_count": 0,
      "outputs": [
        {
          "output_type": "stream",
          "text": [
            "[0.006354715301149984, 0.432585807981988]\n",
            "value of theta_0 at iteration 0 is:  0.006354715301149984\n",
            "value of theta_1 at iteration 0 is:  0.432585807981988 \n",
            "\n"
          ],
          "name": "stdout"
        },
        {
          "output_type": "display_data",
          "data": {
            "image/png": "[encoded data removed]",
            "text/plain": [
              "<Figure size 432x288 with 1 Axes>"
            ]
          },
          "metadata": {
            "tags": []
          }
        },
        {
          "output_type": "stream",
          "text": [
            "[0.011238632327001313, 0.7651000923629105]\n",
            "[0.01499199580501389, 1.020692736334142]\n",
            "[0.017876340501874182, 1.2171582825017515]\n",
            "[0.02009269946428473, 1.3681748018927715]\n",
            "[0.021795600085978147, 1.4842561712143665]\n",
            "[0.023103822417326465, 1.5734840566016945]\n",
            "[0.024108668718890686, 1.642070565095694]\n",
            "[0.024880319991246635, 1.694790736056159]\n",
            "[0.02547272202731942, 1.7353149828770182]\n",
            "[0.025927341157746163, 1.7664646298379765]\n",
            "value of theta_0 at iteration 10 is:  0.025927341157746163\n",
            "value of theta_1 at iteration 10 is:  1.7664646298379765 \n",
            "\n"
          ],
          "name": "stdout"
        },
        {
          "output_type": "display_data",
          "data": {
            "image/png": "[encoded data removed]",
            "text/plain": [
              "<Figure size 432x288 with 1 Axes>"
            ]
          },
          "metadata": {
            "tags": []
          }
        },
        {
          "output_type": "stream",
          "text": [
            "[0.026276051166992182, 1.7904083347540947]\n",
            "[0.026543352369421756, 1.808813072511124]\n",
            "[0.02674807733901433, 1.8229601910701978]\n",
            "[0.026904702046870444, 1.8338346198453912]\n",
            "[0.027024353688854683, 1.8421934412063143]\n",
            "[0.02711558536906963, 1.8486185991036541]\n",
            "[0.027184971573188034, 1.8535574144305327]\n",
            "[0.027237565888929956, 1.8573537278286265]\n",
            "[0.0272772528405176, 1.86027183812387]\n",
            "[0.027307018332078638, 1.8625149030030623]\n",
            "value of theta_0 at iteration 20 is:  0.027307018332078638\n",
            "value of theta_1 at iteration 20 is:  1.8625149030030623 \n",
            "\n"
          ],
          "name": "stdout"
        },
        {
          "output_type": "display_data",
          "data": {
            "image/png": "[encoded data removed]",
            "text/plain": [
              "<Figure size 432x288 with 1 Axes>"
            ]
          },
          "metadata": {
            "tags": []
          }
        },
        {
          "output_type": "stream",
          "text": [
            "[0.02732915752846459, 1.8642390829998703]\n",
            "[0.02734543464629809, 1.8655644135048295]\n",
            "[0.027357205780018067, 1.8665831617165887]\n",
            "[0.0273655133141615, 1.8673662503514281]\n",
            "[0.027371158494933465, 1.8679681953343807]\n",
            "[0.02737475721355105, 1.8684309012376075]\n",
            "[0.02737678288503811, 1.8687865787072073]\n",
            "[0.02737759940772375, 1.8690599869918396]\n",
            "[0.02737748649810882, 1.8692701576996351]\n",
            "[0.027376659164932288, 1.8694317197926036]\n",
            "value of theta_0 at iteration 30 is:  0.027376659164932288\n",
            "value of theta_1 at iteration 30 is:  1.8694317197926036 \n",
            "\n"
          ],
          "name": "stdout"
        },
        {
          "output_type": "display_data",
          "data": {
            "image/png": "[encoded data removed]",
            "text/plain": [
              "<Figure size 432x288 with 1 Axes>"
            ]
          },
          "metadata": {
            "tags": []
          }
        },
        {
          "output_type": "stream",
          "text": [
            "[0.027375282678236097, 1.8695559180656158]\n",
            "[0.02737348407558578, 1.8696513960172059]\n",
            "[0.027371361006518213, 1.8697247976162288]\n",
            "[0.027368988530973446, 1.869781229859808]\n",
            "[0.027366424345022344, 1.869824618326192]\n",
            "[0.027363712797709036, 1.8698579804763678]\n",
            "[0.02736088797866364, 1.8698836357318918]\n",
            "[0.027357976091447123, 1.869903366954706]\n",
            "[0.027354997277862288, 1.8699185445712843]\n",
            "[0.02735196702024073, 1.8699302219827203]\n",
            "value of theta_0 at iteration 40 is:  0.02735196702024073\n",
            "value of theta_1 at iteration 40 is:  1.8699302219827203 \n",
            "\n"
          ],
          "name": "stdout"
        },
        {
          "output_type": "display_data",
          "data": {
            "image/png": "[encoded data removed]",
            "text/plain": [
              "<Figure size 432x288 with 1 Axes>"
            ]
          },
          "metadata": {
            "tags": []
          }
        },
        {
          "output_type": "stream",
          "text": [
            "[0.027348897219334048, 1.869939208903279]\n",
            "[0.02734579702285281, 1.8699461277332918]\n",
            "[0.027342673462336847, 1.8699514568911222]\n",
            "[0.02733953194269615, 1.869955564120999]\n",
            "[0.027336376618504646, 1.8699587320956383]\n",
            "[0.027333210683244655, 1.8699611780961225]\n",
            "[0.027330036591639465, 1.8699630691391684]\n",
            "[0.02732685623055294, 1.8699645336049524]\n",
            "[0.02732367105035436, 1.8699656701750311]\n",
            "[0.027320482165894184, 1.869966554702624]\n",
            "value of theta_0 at iteration 50 is:  0.027320482165894184\n",
            "value of theta_1 at iteration 50 is:  1.869966554702624 \n",
            "\n"
          ],
          "name": "stdout"
        },
        {
          "output_type": "display_data",
          "data": {
            "image/png": "[encoded data removed]",
            "text/plain": [
              "<Figure size 432x288 with 1 Axes>"
            ]
          },
          "metadata": {
            "tags": []
          }
        },
        {
          "output_type": "stream",
          "text": [
            "[0.027317290434120754, 1.8699672454935694]\n",
            "[0.027314096513741663, 1.8699677873656189]\n",
            "[0.02731090091108345, 1.8699682147686827]\n",
            "[0.027307704015342434, 1.8699685541832574]\n",
            "[0.02730450612568083, 1.8699688259640164]\n",
            "[0.027301307472054653, 1.869969045756918]\n",
            "[0.02729810823122341, 1.8699692255884883]\n",
            "[0.027294908539056244, 1.8699693747031165]\n",
            "[0.027291708499991227, 1.869969500206656]\n",
            "[0.027288508194306418, 1.8699696075611394]\n",
            "value of theta_0 at iteration 60 is:  0.027288508194306418\n",
            "value of theta_1 at iteration 60 is:  1.8699696075611394 \n",
            "\n"
          ],
          "name": "stdout"
        },
        {
          "output_type": "display_data",
          "data": {
            "image/png": "[encoded data removed]",
            "text/plain": [
              "<Figure size 432x288 with 1 Axes>"
            ]
          },
          "metadata": {
            "tags": []
          }
        },
        {
          "output_type": "stream",
          "text": [
            "[0.02728530768370888, 1.8699697009650482]\n",
            "[0.027282107015630778, 1.869969783645616]\n",
            "[0.027278906226531632, 1.8699698580835085]\n",
            "[0.027275705344436657, 1.8699699261855314]\n",
            "[0.0272725043908879, 1.8699699894173825]\n",
            "[0.02726930338244402, 1.8699700489056945]\n",
            "[0.027266102331833096, 1.8699701055164726]\n",
            "[0.027262901248838785, 1.8699701599153857]\n",
            "[0.027259700140981453, 1.869970212614112]\n",
            "[0.027256499014041757, 1.8699702640059608]\n",
            "value of theta_0 at iteration 70 is:  0.027256499014041757\n",
            "value of theta_1 at iteration 70 is:  1.8699702640059608 \n",
            "\n"
          ],
          "name": "stdout"
        },
        {
          "output_type": "display_data",
          "data": {
            "image/png": "[encoded data removed]",
            "text/plain": [
              "<Figure size 432x288 with 1 Axes>"
            ]
          },
          "metadata": {
            "tags": []
          }
        },
        {
          "output_type": "stream",
          "text": [
            "[0.027253297872463094, 1.869970314393256]\n",
            "[0.027250096719660957, 1.869970364008384]\n",
            "[0.02724689555826072, 1.8699704130299726]\n",
            "[0.027243694390280414, 1.8699704615953265]\n",
            "[0.027240493217271244, 1.869970509809988]\n",
            "[0.027237292040425562, 1.869970557755083]\n",
            "[0.027234090860659893, 1.869970605492971]\n",
            "[0.027230889678678736, 1.8699706530715858]\n",
            "[0.027227688495023616, 1.869970700527772]\n",
            "[0.027224487310110786, 1.8699707478898508]\n",
            "value of theta_0 at iteration 80 is:  0.027224487310110786\n",
            "value of theta_1 at iteration 80 is:  1.8699707478898508 \n",
            "\n"
          ],
          "name": "stdout"
        },
        {
          "output_type": "display_data",
          "data": {
            "image/png": "[encoded data removed]",
            "text/plain": [
              "<Figure size 432x288 with 1 Axes>"
            ]
          },
          "metadata": {
            "tags": []
          }
        },
        {
          "output_type": "stream",
          "text": [
            "[0.027221286124260207, 1.869970795179592]\n",
            "[0.02721808493771782, 1.8699708424137296]\n",
            "[0.027214883750672676, 1.8699708896051257]\n",
            "[0.027211682563270084, 1.8699709367636677]\n",
            "[0.02720848137562175, 1.8699709838969554]\n",
            "[0.027205280187813524, 1.8699710310108304]\n",
            "[0.027202078999911408, 1.8699710781097831]\n",
            "[0.027198877811966133, 1.8699711251972653]\n",
            "[0.02719567662401669, 1.8699711722759298]\n",
            "[0.027192475436093055, 1.8699712193478162]\n",
            "value of theta_0 at iteration 90 is:  0.027192475436093055\n",
            "value of theta_1 at iteration 90 is:  1.8699712193478162 \n",
            "\n"
          ],
          "name": "stdout"
        },
        {
          "output_type": "display_data",
          "data": {
            "image/png": "[encoded data removed]",
            "text/plain": [
              "<Figure size 432x288 with 1 Axes>"
            ]
          },
          "metadata": {
            "tags": []
          }
        },
        {
          "output_type": "stream",
          "text": [
            "[0.027189274248218265, 1.869971266414492]\n",
            "[0.027186073060410033, 1.8699713134771623]\n",
            "[0.02718287187268197, 1.869971360536753]\n",
            "[0.027179670685044538, 1.8699714075939764]\n",
            "[0.027176469497505785, 1.8699714546493795]\n",
            "[0.02717326831007189, 1.869971501703383]\n",
            "[0.027170067122747603, 1.8699715487563104]\n",
            "[0.02716686593553658, 1.86997159580841]\n",
            "[0.027163664748441632, 1.869971642859873]\n"
          ],
          "name": "stdout"
        },
        {
          "output_type": "display_data",
          "data": {
            "image/png": "[encoded data removed]",
            "text/plain": [
              "<Figure size 432x288 with 1 Axes>"
            ]
          },
          "metadata": {
            "tags": []
          }
        },
        {
          "output_type": "stream",
          "text": [
            "Cost function values:  [4834.061817142876, 2878.1004353249677, 1722.4238175462096, 1039.5941577364408, 636.1453579746994, 397.768287333133, 256.92358075560344, 173.70571367760942, 124.5365714774952, 95.48506328052292, 78.32002658390508, 68.17809234092249, 62.18574681926501, 58.6451790795542, 56.55324027532174, 55.31722153372978, 54.58692177626799, 54.15542526232402, 53.900476161347434, 53.74983981366952, 53.660836487498905, 53.60824893236345, 53.57717757662395, 53.55881903248331, 53.54797183250688, 53.541562698076994, 53.53777578749395, 53.53553821362803, 53.53421606285472, 53.533434788334695, 53.53297308967379, 53.53270021189156, 53.532538898621034, 53.53244350306098, 53.53238705487378, 53.53235361867845, 53.53233377908191, 53.53232197301326, 53.532314913541974, 53.532310658589516, 53.53230806068268, 53.53230644183948, 53.53230540147291, 53.53230470289972, 53.532304206273224, 53.532303828967585, 53.53230352216277, 53.53230325701247, 53.532303016474124, 53.53230279047767, 53.53230257307275, 53.53230236074495, 53.532302151416694, 53.53230194385995, 53.532301737350856, 53.53230153146017, 53.53230132593558, 53.532301120626975, 53.53230091544594, 53.532300710339705, 53.53230050527871, 53.53230030024383, 53.532300095224706, 53.5322998902146, 53.53229968520991, 53.532299480208245, 53.53229927520898, 53.53229907021058, 53.53229886521278, 53.5322986602155, 53.532298455218246, 53.532298250221416, 53.53229804522479, 53.53229784022781, 53.53229763523144, 53.53229743023469, 53.53229722523808, 53.53229702024148, 53.53229681524476, 53.532296610247926, 53.53229640525185, 53.53229620025492, 53.53229599525889, 53.5322957902616, 53.53229558526538, 53.53229538026897, 53.53229517527251, 53.53229497027629, 53.532294765279474, 53.53229456028361, 53.53229435528697, 53.53229415029088, 53.532293945294086, 53.53229374029791, 53.53229353530166, 53.53229333030506, 53.53229312530878, 53.532292920312585, 53.53229271531607, 53.53229251032001]\n",
            "\n",
            "*** The final value of theta_0 is  0.027163664748441632  and theta_1 is  1.869971642859873  ***\n",
            "\n"
          ],
          "name": "stdout"
        }
      ]
    },
    {
      "cell_type": "markdown",
      "metadata": {
        "id": "TAr54yW-gk-e",
        "colab_type": "text"
      },
      "source": [
        " 1)The final value of theta_0 is  0.027163664748441632  and theta_1 is 1.869971642859873  ***"
      ]
    },
    {
      "cell_type": "code",
      "metadata": {
        "id": "-PNR1GX7qxjr",
        "colab_type": "code",
        "outputId": "304eee5e-01e9-4ded-9b77-ffb5ce7ec2f6",
        "colab": {
          "base_uri": "https://localhost:8080/",
          "height": 285
        }
      },
      "source": [
        "ynew=x_train*theta_array[1]+theta_array[0]\n",
        "plt.plot(x_train,ynew,'r')\n",
        "plt.scatter(x_train,y_train)"
      ],
      "execution_count": 0,
      "outputs": [
        {
          "output_type": "execute_result",
          "data": {
            "text/plain": [
              "<matplotlib.collections.PathCollection at 0x7f593d813c88>"
            ]
          },
          "metadata": {
            "tags": []
          },
          "execution_count": 98
        },
        {
          "output_type": "display_data",
          "data": {
            "image/png": "[encoded data removed]",
            "text/plain": [
              "<Figure size 432x288 with 1 Axes>"
            ]
          },
          "metadata": {
            "tags": []
          }
        }
      ]
    },
    {
      "cell_type": "code",
      "metadata": {
        "id": "hN7QBGPut-1Z",
        "colab_type": "code",
        "colab": {}
      },
      "source": [
        "def testing(x_test, y_test, theta_array) :\n",
        "    '''function where testing is done and the mean squared error is found'''\n",
        "    m = x_test.size\n",
        "\n",
        "    SSTO = []   # total sum of squares\n",
        "    SSR = []    # regression sum of squares\n",
        "    SSE = []    # error sum of squares\n",
        "    y_mean = np.mean(y_train)\n",
        "\n",
        "    for i in range(m):\n",
        "        prediction = hypothesis(theta_array, x_test[i])  # value of prediction (value of hypothesis at point i)\n",
        "        y_i = y_test[i]                             # value of 'y' at point i\n",
        "        SSE.append((prediction - y_i)**2)           # sum of values in the array is SSE (error sum of squares)\n",
        "        SSR.append((prediction - y_mean)**2)        # sum of values in the array is SSR (regression sum of squares)\n",
        "        SSTO.append((y_i - y_mean)**2)              # sum of values in the array is SSTO (total sum of squares)\n",
        "\n",
        "    print('\\naverage error is : ', sum(SSE)/len(SSE))\n",
        "    print('\\nsum of squares of error (SSE) : ', sum(SSE))\n",
        "    print('\\nregression sum of squares (SSR) : ', sum(SSR))\n",
        "    print('\\ntotal sum of squares (SSTO) : ', sum(SSTO))\n",
        "    print('\\nThe Coefficient Of Determination R-squared is : ', (sum(SSR)/sum(SSTO))*100,'%')\n"
      ],
      "execution_count": 0,
      "outputs": []
    },
    {
      "cell_type": "code",
      "metadata": {
        "id": "i4EdR2NmvnaK",
        "colab_type": "code",
        "outputId": "253f88c6-a6bb-42fc-ab71-67037f5f5869",
        "colab": {
          "base_uri": "https://localhost:8080/",
          "height": 323
        }
      },
      "source": [
        "testdata=pd.read_csv(\"Colab Notebooks/test_height_weight.csv\")\n",
        "print(testdata)\n",
        "testdata.shape\n",
        "\n",
        "cleaned_testing_data = testdata.dropna()  # Cleaning the data by removing the rows with \"NaN\" values in them. dropna() does the job\n",
        "x_test1 = cleaned_training_data.as_matrix(columns=['Height'])\n",
        "y_test1 = cleaned_training_data.as_matrix(columns=['Weight'])\n",
        "\n",
        "# reshaping the data from (699,1) to (699)\n",
        "x_test1 = x_test1.reshape(x_test1.size)\n",
        "y_test1 = y_test1.reshape(y_test1.size)"
      ],
      "execution_count": 0,
      "outputs": [
        {
          "output_type": "stream",
          "text": [
            "            69  135.3616\n",
            "0     69.10487  126.5316\n",
            "1     72.13193  161.0239\n",
            "2     70.90373  145.6269\n",
            "3     67.86807  122.0075\n",
            "4     67.43892  131.4767\n",
            "...        ...       ...\n",
            "4994  69.50215  118.0312\n",
            "4995  64.54826  120.1932\n",
            "4996  64.69855  118.2655\n",
            "4997  67.52918  132.2682\n",
            "4998  68.87761  124.8742\n",
            "\n",
            "[4999 rows x 2 columns]\n"
          ],
          "name": "stdout"
        },
        {
          "output_type": "stream",
          "text": [
            "/usr/local/lib/python3.6/dist-packages/ipykernel_launcher.py:6: FutureWarning: Method .as_matrix will be removed in a future version. Use .values instead.\n",
            "  \n",
            "/usr/local/lib/python3.6/dist-packages/ipykernel_launcher.py:7: FutureWarning: Method .as_matrix will be removed in a future version. Use .values instead.\n",
            "  import sys\n"
          ],
          "name": "stderr"
        }
      ]
    },
    {
      "cell_type": "code",
      "metadata": {
        "id": "j-0aNybox8Dg",
        "colab_type": "code",
        "colab": {}
      },
      "source": [
        "SSTO = []   # total sum of squares\n",
        "SSR = []    # regression sum of squares\n",
        "SSE = []    # error sum of squares\n",
        "y_mean = np.mean(y_train)"
      ],
      "execution_count": 0,
      "outputs": []
    },
    {
      "cell_type": "code",
      "metadata": {
        "id": "nTJ-HhKmyA6F",
        "colab_type": "code",
        "colab": {}
      },
      "source": [
        "\n",
        "for i in range(m):\n",
        "  prediction = hypothesis(theta_array, x_test1[i])  # value of prediction (value of hypothesis at point i)\n",
        "  y_i = y_test1[i]                             # value of 'y' at point i\n",
        "  SSE.append((prediction - y_i)**2)           # sum of values in the array is SSE (error sum of squares)\n",
        "  SSR.append((prediction - y_mean)**2)        # sum of values in the array is SSR (regression sum of squares)\n",
        "  SSTO.append((y_i - y_mean)**2)              # sum of values in the array is SSTO (total sum of squares)\n"
      ],
      "execution_count": 0,
      "outputs": []
    },
    {
      "cell_type": "code",
      "metadata": {
        "id": "3Dasivsx2cJH",
        "colab_type": "code",
        "outputId": "9f37b9b1-8f07-499b-b643-072a47e9e0a1",
        "colab": {
          "base_uri": "https://localhost:8080/",
          "height": 187
        }
      },
      "source": [
        "print('\\naverage error is : ', sum(SSE)/len(SSE))\n",
        "print('\\nsum of squares of error (SSE) : ', sum(SSE))\n",
        "print('\\nregression sum of squares (SSR) : ', sum(SSR))\n",
        "print('\\ntotal sum of squares (SSTO) : ', sum(SSTO))\n",
        "print('\\nThe Coefficient Of Determination R-squared is : ', (sum(SSR)/sum(SSTO))*100,'%')       #regression coefficient"
      ],
      "execution_count": 0,
      "outputs": [
        {
          "output_type": "stream",
          "text": [
            "\n",
            "average error is :  107.06458502064002\n",
            "\n",
            "sum of squares of error (SSE) :  2141291.7004128005\n",
            "\n",
            "regression sum of squares (SSR) :  253589.5640109646\n",
            "\n",
            "total sum of squares (SSTO) :  2720364.196641074\n",
            "\n",
            "The Coefficient Of Determination R-squared is :  9.321897572541214 %\n"
          ],
          "name": "stdout"
        }
      ]
    }
  ]
}